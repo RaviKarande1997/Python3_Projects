{
  "nbformat": 4,
  "nbformat_minor": 0,
  "metadata": {
    "colab": {
      "name": "Number_Guessing_Game.ipynb",
      "provenance": [],
      "include_colab_link": true
    },
    "kernelspec": {
      "name": "python3",
      "display_name": "Python 3"
    },
    "language_info": {
      "name": "python"
    }
  },
  "cells": [
    {
      "cell_type": "markdown",
      "metadata": {
        "id": "view-in-github",
        "colab_type": "text"
      },
      "source": [
        "<a href=\"https://colab.research.google.com/github/RaviKarande1997/Python3_Projects/blob/main/Number_Guessing_Game.ipynb\" target=\"_parent\"><img src=\"https://colab.research.google.com/assets/colab-badge.svg\" alt=\"Open In Colab\"/></a>"
      ]
    },
    {
      "cell_type": "code",
      "execution_count": 6,
      "metadata": {
        "colab": {
          "base_uri": "https://localhost:8080/"
        },
        "id": "T4Ofh4N8vdoF",
        "outputId": "1274f46a-021d-4c77-80a1-1b2ae7b81a65"
      },
      "outputs": [
        {
          "output_type": "stream",
          "name": "stdout",
          "text": [
            "Enter the lower bound : 1\n",
            "Enter the upper bound : 4\n",
            "\n",
            "\tYou have only 2 Chances to guess the integer!!\n",
            "\n",
            "Guess a number : 3\n",
            "Congratulations!, You guessed it correctly in  1  try\n"
          ]
        }
      ],
      "source": [
        "import math\n",
        "import random\n",
        "\n",
        "low = int(input(\"Enter the lower bound : \"))\n",
        "\n",
        "high = int(input(\"Enter the upper bound : \"))\n",
        "\n",
        "num = random.randint(low,high)\n",
        "\n",
        "chance = math.log(high-low+1,2)\n",
        "\n",
        "print(\"\\n\\tYou have only\",round(chance),\"Chances to guess the integer!!\\n\")\n",
        "\n",
        "count = 0\n",
        "\n",
        "while count < chance:\n",
        "  count += 1\n",
        "  guess = int(input(\"Guess a number : \"))\n",
        "\n",
        "  if num == guess:\n",
        "    print(\"Congratulations!, You guessed it correctly in \",count,\" try\")\n",
        "    break\n",
        "\n",
        "  elif num > guess:\n",
        "    print(\"Ohh :( , Your guess is too small\")\n",
        "  elif num < guess:\n",
        "    print(\"Ohh :( , Your guess is too big\")\n",
        "\n",
        "if count >= chance:\n",
        "  print(\"The number was : %d\"%num)\n",
        "  print(\"\\t Better Luck next time! :(\")\n"
      ]
    },
    {
      "cell_type": "code",
      "source": [],
      "metadata": {
        "id": "AP057gzzvm-N"
      },
      "execution_count": null,
      "outputs": []
    }
  ]
}